{
 "cells": [
  {
   "cell_type": "code",
   "execution_count": 1,
   "id": "76302a2f-c45d-42ee-aa23-2535a8c1d8d7",
   "metadata": {},
   "outputs": [],
   "source": [
    "import pandas as pd\n",
    "import numpy as np\n",
    "import matplotlib.pyplot as plt\n",
    "%matplotlib inline"
   ]
  },
  {
   "cell_type": "code",
   "execution_count": 60,
   "id": "17304659-2e24-406e-b514-335738bb958a",
   "metadata": {},
   "outputs": [
    {
     "data": {
      "text/html": [
       "<div>\n",
       "<style scoped>\n",
       "    .dataframe tbody tr th:only-of-type {\n",
       "        vertical-align: middle;\n",
       "    }\n",
       "\n",
       "    .dataframe tbody tr th {\n",
       "        vertical-align: top;\n",
       "    }\n",
       "\n",
       "    .dataframe thead th {\n",
       "        text-align: right;\n",
       "    }\n",
       "</style>\n",
       "<table border=\"1\" class=\"dataframe\">\n",
       "  <thead>\n",
       "    <tr style=\"text-align: right;\">\n",
       "      <th></th>\n",
       "      <th>distance</th>\n",
       "      <th>consume</th>\n",
       "      <th>speed</th>\n",
       "      <th>temp_inside</th>\n",
       "      <th>temp_outside</th>\n",
       "      <th>specials</th>\n",
       "      <th>gas_type</th>\n",
       "      <th>AC</th>\n",
       "      <th>rain</th>\n",
       "      <th>sun</th>\n",
       "      <th>refill liters</th>\n",
       "      <th>refill gas</th>\n",
       "    </tr>\n",
       "  </thead>\n",
       "  <tbody>\n",
       "    <tr>\n",
       "      <th>0</th>\n",
       "      <td>28</td>\n",
       "      <td>5</td>\n",
       "      <td>26</td>\n",
       "      <td>21,5</td>\n",
       "      <td>12</td>\n",
       "      <td>NaN</td>\n",
       "      <td>E10</td>\n",
       "      <td>0</td>\n",
       "      <td>0</td>\n",
       "      <td>0</td>\n",
       "      <td>45</td>\n",
       "      <td>E10</td>\n",
       "    </tr>\n",
       "    <tr>\n",
       "      <th>1</th>\n",
       "      <td>12</td>\n",
       "      <td>4,2</td>\n",
       "      <td>30</td>\n",
       "      <td>21,5</td>\n",
       "      <td>13</td>\n",
       "      <td>NaN</td>\n",
       "      <td>E10</td>\n",
       "      <td>0</td>\n",
       "      <td>0</td>\n",
       "      <td>0</td>\n",
       "      <td>NaN</td>\n",
       "      <td>NaN</td>\n",
       "    </tr>\n",
       "    <tr>\n",
       "      <th>2</th>\n",
       "      <td>11,2</td>\n",
       "      <td>5,5</td>\n",
       "      <td>38</td>\n",
       "      <td>21,5</td>\n",
       "      <td>15</td>\n",
       "      <td>NaN</td>\n",
       "      <td>E10</td>\n",
       "      <td>0</td>\n",
       "      <td>0</td>\n",
       "      <td>0</td>\n",
       "      <td>NaN</td>\n",
       "      <td>NaN</td>\n",
       "    </tr>\n",
       "    <tr>\n",
       "      <th>3</th>\n",
       "      <td>12,9</td>\n",
       "      <td>3,9</td>\n",
       "      <td>36</td>\n",
       "      <td>21,5</td>\n",
       "      <td>14</td>\n",
       "      <td>NaN</td>\n",
       "      <td>E10</td>\n",
       "      <td>0</td>\n",
       "      <td>0</td>\n",
       "      <td>0</td>\n",
       "      <td>NaN</td>\n",
       "      <td>NaN</td>\n",
       "    </tr>\n",
       "    <tr>\n",
       "      <th>4</th>\n",
       "      <td>18,5</td>\n",
       "      <td>4,5</td>\n",
       "      <td>46</td>\n",
       "      <td>21,5</td>\n",
       "      <td>15</td>\n",
       "      <td>NaN</td>\n",
       "      <td>E10</td>\n",
       "      <td>0</td>\n",
       "      <td>0</td>\n",
       "      <td>0</td>\n",
       "      <td>NaN</td>\n",
       "      <td>NaN</td>\n",
       "    </tr>\n",
       "    <tr>\n",
       "      <th>...</th>\n",
       "      <td>...</td>\n",
       "      <td>...</td>\n",
       "      <td>...</td>\n",
       "      <td>...</td>\n",
       "      <td>...</td>\n",
       "      <td>...</td>\n",
       "      <td>...</td>\n",
       "      <td>...</td>\n",
       "      <td>...</td>\n",
       "      <td>...</td>\n",
       "      <td>...</td>\n",
       "      <td>...</td>\n",
       "    </tr>\n",
       "    <tr>\n",
       "      <th>383</th>\n",
       "      <td>16</td>\n",
       "      <td>3,7</td>\n",
       "      <td>39</td>\n",
       "      <td>24,5</td>\n",
       "      <td>18</td>\n",
       "      <td>NaN</td>\n",
       "      <td>SP98</td>\n",
       "      <td>0</td>\n",
       "      <td>0</td>\n",
       "      <td>0</td>\n",
       "      <td>NaN</td>\n",
       "      <td>NaN</td>\n",
       "    </tr>\n",
       "    <tr>\n",
       "      <th>384</th>\n",
       "      <td>16,1</td>\n",
       "      <td>4,3</td>\n",
       "      <td>38</td>\n",
       "      <td>25</td>\n",
       "      <td>31</td>\n",
       "      <td>AC</td>\n",
       "      <td>SP98</td>\n",
       "      <td>1</td>\n",
       "      <td>0</td>\n",
       "      <td>0</td>\n",
       "      <td>NaN</td>\n",
       "      <td>NaN</td>\n",
       "    </tr>\n",
       "    <tr>\n",
       "      <th>385</th>\n",
       "      <td>16</td>\n",
       "      <td>3,8</td>\n",
       "      <td>45</td>\n",
       "      <td>25</td>\n",
       "      <td>19</td>\n",
       "      <td>NaN</td>\n",
       "      <td>SP98</td>\n",
       "      <td>0</td>\n",
       "      <td>0</td>\n",
       "      <td>0</td>\n",
       "      <td>NaN</td>\n",
       "      <td>NaN</td>\n",
       "    </tr>\n",
       "    <tr>\n",
       "      <th>386</th>\n",
       "      <td>15,4</td>\n",
       "      <td>4,6</td>\n",
       "      <td>42</td>\n",
       "      <td>25</td>\n",
       "      <td>31</td>\n",
       "      <td>AC</td>\n",
       "      <td>SP98</td>\n",
       "      <td>1</td>\n",
       "      <td>0</td>\n",
       "      <td>0</td>\n",
       "      <td>NaN</td>\n",
       "      <td>NaN</td>\n",
       "    </tr>\n",
       "    <tr>\n",
       "      <th>387</th>\n",
       "      <td>14,7</td>\n",
       "      <td>5</td>\n",
       "      <td>25</td>\n",
       "      <td>25</td>\n",
       "      <td>30</td>\n",
       "      <td>AC</td>\n",
       "      <td>SP98</td>\n",
       "      <td>1</td>\n",
       "      <td>0</td>\n",
       "      <td>0</td>\n",
       "      <td>NaN</td>\n",
       "      <td>NaN</td>\n",
       "    </tr>\n",
       "  </tbody>\n",
       "</table>\n",
       "<p>388 rows × 12 columns</p>\n",
       "</div>"
      ],
      "text/plain": [
       "    distance consume  speed temp_inside  temp_outside specials gas_type  AC  \\\n",
       "0         28       5     26        21,5            12      NaN      E10   0   \n",
       "1         12     4,2     30        21,5            13      NaN      E10   0   \n",
       "2       11,2     5,5     38        21,5            15      NaN      E10   0   \n",
       "3       12,9     3,9     36        21,5            14      NaN      E10   0   \n",
       "4       18,5     4,5     46        21,5            15      NaN      E10   0   \n",
       "..       ...     ...    ...         ...           ...      ...      ...  ..   \n",
       "383       16     3,7     39        24,5            18      NaN     SP98   0   \n",
       "384     16,1     4,3     38          25            31       AC     SP98   1   \n",
       "385       16     3,8     45          25            19      NaN     SP98   0   \n",
       "386     15,4     4,6     42          25            31       AC     SP98   1   \n",
       "387     14,7       5     25          25            30       AC     SP98   1   \n",
       "\n",
       "     rain  sun refill liters refill gas  \n",
       "0       0    0            45        E10  \n",
       "1       0    0           NaN        NaN  \n",
       "2       0    0           NaN        NaN  \n",
       "3       0    0           NaN        NaN  \n",
       "4       0    0           NaN        NaN  \n",
       "..    ...  ...           ...        ...  \n",
       "383     0    0           NaN        NaN  \n",
       "384     0    0           NaN        NaN  \n",
       "385     0    0           NaN        NaN  \n",
       "386     0    0           NaN        NaN  \n",
       "387     0    0           NaN        NaN  \n",
       "\n",
       "[388 rows x 12 columns]"
      ]
     },
     "execution_count": 60,
     "metadata": {},
     "output_type": "execute_result"
    }
   ],
   "source": [
    "df = pd.read_csv(\"car_fuel_data.csv\")\n",
    "df"
   ]
  },
  {
   "cell_type": "code",
   "execution_count": 61,
   "id": "a2fc47f2-bd6e-46ba-8f22-976dec0034c2",
   "metadata": {},
   "outputs": [
    {
     "data": {
      "text/html": [
       "<div>\n",
       "<style scoped>\n",
       "    .dataframe tbody tr th:only-of-type {\n",
       "        vertical-align: middle;\n",
       "    }\n",
       "\n",
       "    .dataframe tbody tr th {\n",
       "        vertical-align: top;\n",
       "    }\n",
       "\n",
       "    .dataframe thead th {\n",
       "        text-align: right;\n",
       "    }\n",
       "</style>\n",
       "<table border=\"1\" class=\"dataframe\">\n",
       "  <thead>\n",
       "    <tr style=\"text-align: right;\">\n",
       "      <th></th>\n",
       "      <th>distance</th>\n",
       "      <th>consume</th>\n",
       "      <th>speed</th>\n",
       "      <th>temp_inside</th>\n",
       "      <th>temp_outside</th>\n",
       "      <th>specials</th>\n",
       "      <th>gas_type</th>\n",
       "      <th>AC</th>\n",
       "      <th>rain</th>\n",
       "      <th>sun</th>\n",
       "      <th>refill liters</th>\n",
       "      <th>refill gas</th>\n",
       "    </tr>\n",
       "  </thead>\n",
       "  <tbody>\n",
       "    <tr>\n",
       "      <th>0</th>\n",
       "      <td>28</td>\n",
       "      <td>5</td>\n",
       "      <td>26</td>\n",
       "      <td>21,5</td>\n",
       "      <td>12</td>\n",
       "      <td>NaN</td>\n",
       "      <td>E10</td>\n",
       "      <td>0</td>\n",
       "      <td>0</td>\n",
       "      <td>0</td>\n",
       "      <td>45</td>\n",
       "      <td>E10</td>\n",
       "    </tr>\n",
       "    <tr>\n",
       "      <th>1</th>\n",
       "      <td>12</td>\n",
       "      <td>4,2</td>\n",
       "      <td>30</td>\n",
       "      <td>21,5</td>\n",
       "      <td>13</td>\n",
       "      <td>NaN</td>\n",
       "      <td>E10</td>\n",
       "      <td>0</td>\n",
       "      <td>0</td>\n",
       "      <td>0</td>\n",
       "      <td>NaN</td>\n",
       "      <td>NaN</td>\n",
       "    </tr>\n",
       "    <tr>\n",
       "      <th>2</th>\n",
       "      <td>11,2</td>\n",
       "      <td>5,5</td>\n",
       "      <td>38</td>\n",
       "      <td>21,5</td>\n",
       "      <td>15</td>\n",
       "      <td>NaN</td>\n",
       "      <td>E10</td>\n",
       "      <td>0</td>\n",
       "      <td>0</td>\n",
       "      <td>0</td>\n",
       "      <td>NaN</td>\n",
       "      <td>NaN</td>\n",
       "    </tr>\n",
       "    <tr>\n",
       "      <th>3</th>\n",
       "      <td>12,9</td>\n",
       "      <td>3,9</td>\n",
       "      <td>36</td>\n",
       "      <td>21,5</td>\n",
       "      <td>14</td>\n",
       "      <td>NaN</td>\n",
       "      <td>E10</td>\n",
       "      <td>0</td>\n",
       "      <td>0</td>\n",
       "      <td>0</td>\n",
       "      <td>NaN</td>\n",
       "      <td>NaN</td>\n",
       "    </tr>\n",
       "    <tr>\n",
       "      <th>4</th>\n",
       "      <td>18,5</td>\n",
       "      <td>4,5</td>\n",
       "      <td>46</td>\n",
       "      <td>21,5</td>\n",
       "      <td>15</td>\n",
       "      <td>NaN</td>\n",
       "      <td>E10</td>\n",
       "      <td>0</td>\n",
       "      <td>0</td>\n",
       "      <td>0</td>\n",
       "      <td>NaN</td>\n",
       "      <td>NaN</td>\n",
       "    </tr>\n",
       "  </tbody>\n",
       "</table>\n",
       "</div>"
      ],
      "text/plain": [
       "  distance consume  speed temp_inside  temp_outside specials gas_type  AC  \\\n",
       "0       28       5     26        21,5            12      NaN      E10   0   \n",
       "1       12     4,2     30        21,5            13      NaN      E10   0   \n",
       "2     11,2     5,5     38        21,5            15      NaN      E10   0   \n",
       "3     12,9     3,9     36        21,5            14      NaN      E10   0   \n",
       "4     18,5     4,5     46        21,5            15      NaN      E10   0   \n",
       "\n",
       "   rain  sun refill liters refill gas  \n",
       "0     0    0            45        E10  \n",
       "1     0    0           NaN        NaN  \n",
       "2     0    0           NaN        NaN  \n",
       "3     0    0           NaN        NaN  \n",
       "4     0    0           NaN        NaN  "
      ]
     },
     "execution_count": 61,
     "metadata": {},
     "output_type": "execute_result"
    }
   ],
   "source": [
    "df.head()"
   ]
  },
  {
   "cell_type": "code",
   "execution_count": 62,
   "id": "ab1e67bf-efb8-4ba8-ab5f-bf8a833332d6",
   "metadata": {},
   "outputs": [
    {
     "name": "stdout",
     "output_type": "stream",
     "text": [
      "<class 'pandas.core.frame.DataFrame'>\n",
      "RangeIndex: 388 entries, 0 to 387\n",
      "Data columns (total 12 columns):\n",
      " #   Column         Non-Null Count  Dtype \n",
      "---  ------         --------------  ----- \n",
      " 0   distance       388 non-null    object\n",
      " 1   consume        388 non-null    object\n",
      " 2   speed          388 non-null    int64 \n",
      " 3   temp_inside    376 non-null    object\n",
      " 4   temp_outside   388 non-null    int64 \n",
      " 5   specials       93 non-null     object\n",
      " 6   gas_type       388 non-null    object\n",
      " 7   AC             388 non-null    int64 \n",
      " 8   rain           388 non-null    int64 \n",
      " 9   sun            388 non-null    int64 \n",
      " 10  refill liters  13 non-null     object\n",
      " 11  refill gas     13 non-null     object\n",
      "dtypes: int64(5), object(7)\n",
      "memory usage: 36.5+ KB\n"
     ]
    }
   ],
   "source": [
    "df.info()"
   ]
  },
  {
   "cell_type": "code",
   "execution_count": 63,
   "id": "93820e8d-5479-458a-ae0e-405feb27aac0",
   "metadata": {},
   "outputs": [
    {
     "data": {
      "text/plain": [
       "dtype('int64')"
      ]
     },
     "execution_count": 63,
     "metadata": {},
     "output_type": "execute_result"
    }
   ],
   "source": [
    "\n",
    "df['speed'].dtype"
   ]
  },
  {
   "cell_type": "code",
   "execution_count": 65,
   "id": "6086151f-24aa-4b64-8108-132c9f5de065",
   "metadata": {},
   "outputs": [
    {
     "data": {
      "text/html": [
       "<div>\n",
       "<style scoped>\n",
       "    .dataframe tbody tr th:only-of-type {\n",
       "        vertical-align: middle;\n",
       "    }\n",
       "\n",
       "    .dataframe tbody tr th {\n",
       "        vertical-align: top;\n",
       "    }\n",
       "\n",
       "    .dataframe thead th {\n",
       "        text-align: right;\n",
       "    }\n",
       "</style>\n",
       "<table border=\"1\" class=\"dataframe\">\n",
       "  <thead>\n",
       "    <tr style=\"text-align: right;\">\n",
       "      <th></th>\n",
       "      <th>speed</th>\n",
       "      <th>temp_outside</th>\n",
       "      <th>AC</th>\n",
       "      <th>rain</th>\n",
       "      <th>sun</th>\n",
       "    </tr>\n",
       "  </thead>\n",
       "  <tbody>\n",
       "    <tr>\n",
       "      <th>count</th>\n",
       "      <td>388.000000</td>\n",
       "      <td>388.000000</td>\n",
       "      <td>388.000000</td>\n",
       "      <td>388.000000</td>\n",
       "      <td>388.000000</td>\n",
       "    </tr>\n",
       "    <tr>\n",
       "      <th>mean</th>\n",
       "      <td>41.927835</td>\n",
       "      <td>11.358247</td>\n",
       "      <td>0.077320</td>\n",
       "      <td>0.123711</td>\n",
       "      <td>0.082474</td>\n",
       "    </tr>\n",
       "    <tr>\n",
       "      <th>std</th>\n",
       "      <td>13.598524</td>\n",
       "      <td>6.991542</td>\n",
       "      <td>0.267443</td>\n",
       "      <td>0.329677</td>\n",
       "      <td>0.275441</td>\n",
       "    </tr>\n",
       "    <tr>\n",
       "      <th>min</th>\n",
       "      <td>14.000000</td>\n",
       "      <td>-5.000000</td>\n",
       "      <td>0.000000</td>\n",
       "      <td>0.000000</td>\n",
       "      <td>0.000000</td>\n",
       "    </tr>\n",
       "    <tr>\n",
       "      <th>25%</th>\n",
       "      <td>32.750000</td>\n",
       "      <td>7.000000</td>\n",
       "      <td>0.000000</td>\n",
       "      <td>0.000000</td>\n",
       "      <td>0.000000</td>\n",
       "    </tr>\n",
       "    <tr>\n",
       "      <th>50%</th>\n",
       "      <td>40.500000</td>\n",
       "      <td>10.000000</td>\n",
       "      <td>0.000000</td>\n",
       "      <td>0.000000</td>\n",
       "      <td>0.000000</td>\n",
       "    </tr>\n",
       "    <tr>\n",
       "      <th>75%</th>\n",
       "      <td>50.000000</td>\n",
       "      <td>16.000000</td>\n",
       "      <td>0.000000</td>\n",
       "      <td>0.000000</td>\n",
       "      <td>0.000000</td>\n",
       "    </tr>\n",
       "    <tr>\n",
       "      <th>max</th>\n",
       "      <td>90.000000</td>\n",
       "      <td>31.000000</td>\n",
       "      <td>1.000000</td>\n",
       "      <td>1.000000</td>\n",
       "      <td>1.000000</td>\n",
       "    </tr>\n",
       "  </tbody>\n",
       "</table>\n",
       "</div>"
      ],
      "text/plain": [
       "            speed  temp_outside          AC        rain         sun\n",
       "count  388.000000    388.000000  388.000000  388.000000  388.000000\n",
       "mean    41.927835     11.358247    0.077320    0.123711    0.082474\n",
       "std     13.598524      6.991542    0.267443    0.329677    0.275441\n",
       "min     14.000000     -5.000000    0.000000    0.000000    0.000000\n",
       "25%     32.750000      7.000000    0.000000    0.000000    0.000000\n",
       "50%     40.500000     10.000000    0.000000    0.000000    0.000000\n",
       "75%     50.000000     16.000000    0.000000    0.000000    0.000000\n",
       "max     90.000000     31.000000    1.000000    1.000000    1.000000"
      ]
     },
     "execution_count": 65,
     "metadata": {},
     "output_type": "execute_result"
    }
   ],
   "source": [
    "df.describe()"
   ]
  },
  {
   "cell_type": "code",
   "execution_count": 66,
   "id": "6fa40b08-a741-4a3a-9b6d-182694f9b296",
   "metadata": {},
   "outputs": [
    {
     "data": {
      "text/plain": [
       "distance           0\n",
       "consume            0\n",
       "speed              0\n",
       "temp_inside       12\n",
       "temp_outside       0\n",
       "specials         295\n",
       "gas_type           0\n",
       "AC                 0\n",
       "rain               0\n",
       "sun                0\n",
       "refill liters    375\n",
       "refill gas       375\n",
       "dtype: int64"
      ]
     },
     "execution_count": 66,
     "metadata": {},
     "output_type": "execute_result"
    }
   ],
   "source": [
    "df.isnull().sum()"
   ]
  },
  {
   "cell_type": "code",
   "execution_count": 80,
   "id": "517c6431-4ae5-46d4-8694-086fbdf3c861",
   "metadata": {},
   "outputs": [],
   "source": [
    "# df['consume'] = df['consume'].str.replace(',', '.').astype(float)\n",
    "# df['distance'] = df['distance'].str.replace(',', '.').astype(float)\n",
    "df['temp_inside'] = df['temp_inside'].str.replace(',', '.').astype(float)\n",
    "\n",
    "\n"
   ]
  },
  {
   "cell_type": "code",
   "execution_count": 76,
   "id": "875aedff-09af-4ba8-9e2b-ffc20eb47000",
   "metadata": {},
   "outputs": [],
   "source": [
    "df['temp_inside'].dropna(inplace=True)"
   ]
  },
  {
   "cell_type": "code",
   "execution_count": 10,
   "id": "88bdb24d-ad0a-4036-adc9-61d68db1b71a",
   "metadata": {},
   "outputs": [
    {
     "data": {
      "text/plain": [
       "array(['E10', 'SP98'], dtype=object)"
      ]
     },
     "execution_count": 10,
     "metadata": {},
     "output_type": "execute_result"
    }
   ],
   "source": [
    "df[\"gas_type\"].unique()"
   ]
  },
  {
   "cell_type": "code",
   "execution_count": 21,
   "id": "5cff0814-6feb-424d-ba38-301c201ec99c",
   "metadata": {},
   "outputs": [
    {
     "data": {
      "text/plain": [
       "gas_type\n",
       "SP98    228\n",
       "E10     160\n",
       "Name: count, dtype: int64"
      ]
     },
     "execution_count": 21,
     "metadata": {},
     "output_type": "execute_result"
    }
   ],
   "source": [
    "df[\"gas_type\"].value_counts()"
   ]
  },
  {
   "cell_type": "code",
   "execution_count": 69,
   "id": "d69a9b02-56b1-41bd-a42a-9333ea91a45e",
   "metadata": {},
   "outputs": [
    {
     "data": {
      "text/plain": [
       "gas_type\n",
       "E10      789.0\n",
       "SP98    1117.0\n",
       "Name: consume, dtype: float64"
      ]
     },
     "execution_count": 69,
     "metadata": {},
     "output_type": "execute_result"
    }
   ],
   "source": [
    "\n",
    "df.groupby(\"gas_type\")[\"consume\"].sum()\n"
   ]
  },
  {
   "cell_type": "code",
   "execution_count": 71,
   "id": "bd8255b1-1d05-476d-9494-02ddb66a3291",
   "metadata": {},
   "outputs": [
    {
     "data": {
      "text/plain": [
       "gas_type\n",
       "E10     4.931250\n",
       "SP98    4.899123\n",
       "Name: consume, dtype: float64"
      ]
     },
     "execution_count": 71,
     "metadata": {},
     "output_type": "execute_result"
    }
   ],
   "source": [
    "df.groupby(\"gas_type\")[\"consume\"].mean()\n"
   ]
  },
  {
   "cell_type": "code",
   "execution_count": 47,
   "id": "0b538ff1-cb33-46d2-bbe4-0143e2ca2ba2",
   "metadata": {},
   "outputs": [
    {
     "data": {
      "text/plain": [
       "<Axes: >"
      ]
     },
     "execution_count": 47,
     "metadata": {},
     "output_type": "execute_result"
    },
    {
     "data": {
      "image/png": "[encoded data removed]",
      "text/plain": [
       "<Figure size 640x480 with 1 Axes>"
      ]
     },
     "metadata": {},
     "output_type": "display_data"
    }
   ],
   "source": [
    "#histogram for fuel consumption\n",
    "df['consume'].hist(bins=5)"
   ]
  },
  {
   "cell_type": "code",
   "execution_count": 36,
   "id": "c63fe553-48fb-4319-a83c-c5e5e66e9a19",
   "metadata": {},
   "outputs": [],
   "source": [
    "df['distance'] = df['distance'].str.replace(',', '').astype(float)\n"
   ]
  },
  {
   "cell_type": "code",
   "execution_count": 72,
   "id": "b513c422-917f-4f67-aba5-9cad767dbc10",
   "metadata": {},
   "outputs": [
    {
     "data": {
      "text/plain": [
       "<Axes: >"
      ]
     },
     "execution_count": 72,
     "metadata": {},
     "output_type": "execute_result"
    },
    {
     "data": {
      "image/png": "[encoded data removed]",
      "text/plain": [
       "<Figure size 640x480 with 1 Axes>"
      ]
     },
     "metadata": {},
     "output_type": "display_data"
    }
   ],
   "source": [
    "df['distance'].hist()"
   ]
  },
  {
   "cell_type": "code",
   "execution_count": 73,
   "id": "3148f311-7c05-4576-a92b-c9975d0c933f",
   "metadata": {},
   "outputs": [
    {
     "data": {
      "text/plain": [
       "<Axes: >"
      ]
     },
     "execution_count": 73,
     "metadata": {},
     "output_type": "execute_result"
    },
    {
     "data": {
      "image/png": "[encoded data removed]",
      "text/plain": [
       "<Figure size 640x480 with 1 Axes>"
      ]
     },
     "metadata": {},
     "output_type": "display_data"
    }
   ],
   "source": [
    "df['speed'].hist(bins=5)"
   ]
  },
  {
   "cell_type": "code",
   "execution_count": 39,
   "id": "e5f1d42c-eac5-4433-ba84-a197596833f6",
   "metadata": {
    "scrolled": true
   },
   "outputs": [
    {
     "data": {
      "text/plain": [
       "gas_type\n",
       "E10     7035.0\n",
       "SP98    9901.0\n",
       "Name: consume, dtype: float64"
      ]
     },
     "execution_count": 39,
     "metadata": {},
     "output_type": "execute_result"
    }
   ],
   "source": [
    "df.groupby(\"gas_type\")[\"consume\"].sum()\n"
   ]
  },
  {
   "cell_type": "code",
   "execution_count": 97,
   "id": "fa24ffca-a3d8-43f0-a963-008c44d0af27",
   "metadata": {},
   "outputs": [
    {
     "data": {
      "text/plain": [
       "distance           0\n",
       "consume            0\n",
       "speed              0\n",
       "temp_inside      388\n",
       "temp_outside       0\n",
       "specials         295\n",
       "gas_type           0\n",
       "AC                 0\n",
       "rain               0\n",
       "sun                0\n",
       "refill liters    375\n",
       "refill gas       375\n",
       "dtype: int64"
      ]
     },
     "execution_count": 97,
     "metadata": {},
     "output_type": "execute_result"
    }
   ],
   "source": [
    "df['temp_inside']=df['temp_inside'].dropna(inplace=True)\n",
    "df.isnull().sum()\n"
   ]
  },
  {
   "cell_type": "markdown",
   "id": "017bad49-21fc-4ed9-a35a-73b47eb0f702",
   "metadata": {},
   "source": [
    "<h1>Model building</h1>"
   ]
  },
  {
   "cell_type": "code",
   "execution_count": 107,
   "id": "40c2d7ec-e5b6-4348-ac5c-75b8b4f85427",
   "metadata": {},
   "outputs": [],
   "source": [
    "import pandas as pd\n",
    "import numpy as np\n",
    "from sklearn import preprocessing\n",
    "import matplotlib.pyplot as plt \n",
    "plt.rc(\"font\", size=14)\n",
    "from sklearn.linear_model import LogisticRegression\n",
    "from sklearn.linear_model import LinearRegression\n",
    "from sklearn.model_selection import train_test_split\n",
    "import seaborn as sns\n",
    "sns.set(style=\"white\")\n",
    "sns.set(style=\"whitegrid\", color_codes=True)"
   ]
  },
  {
   "cell_type": "code",
   "execution_count": 108,
   "id": "8cb022d8-5e96-4a23-b47a-203a6a966496",
   "metadata": {},
   "outputs": [],
   "source": [
    "#split dataset in features and target variable\n",
    "feature_cols = ['speed', 'rain', 'sun', 'distance','AC','temp_outside']\n",
    "X = df[feature_cols] # Features\n",
    "y = df['consume'] # Target variable"
   ]
  },
  {
   "cell_type": "code",
   "execution_count": 120,
   "id": "c0c5ef2b-e945-45df-b0d5-30e6adf4b926",
   "metadata": {},
   "outputs": [],
   "source": [
    "# split X and y into training and testing sets\n",
    "from sklearn.model_selection import train_test_split\n",
    "\n",
    "X_train, X_test, y_train, y_test = train_test_split(X, y, test_size=0.40, random_state=16)"
   ]
  },
  {
   "cell_type": "code",
   "execution_count": 121,
   "id": "412b3be3-14b3-4960-9648-db36b010a5a0",
   "metadata": {},
   "outputs": [
    {
     "data": {
      "text/plain": [
       "array([4.29464866, 4.65762434, 3.73022481, 4.63861544, 3.1419141 ,\n",
       "       4.66119552, 4.08211303, 5.02391749, 5.27265966, 4.52226092,\n",
       "       4.77315456, 4.24189989, 5.02533535, 5.06912705, 5.00166538,\n",
       "       5.7493544 , 5.84746187, 4.27456799, 4.71540224, 5.45950462,\n",
       "       4.64463499, 4.48521592, 5.19680011, 4.60603193, 4.00785747,\n",
       "       5.47987754, 4.034858  , 4.21455893, 4.6022758 , 5.06906395,\n",
       "       5.13074358, 5.14494726, 4.62494859, 4.49314202, 4.68345446,\n",
       "       4.85985667, 5.55383469, 4.1606883 , 4.29208102, 5.14043242,\n",
       "       4.60626847, 5.16060163, 4.63101827, 5.27233854, 5.59539452,\n",
       "       5.97853251, 4.97102907, 5.09466519, 5.15899833, 5.33154292,\n",
       "       4.37931707, 5.52142956, 4.69386362, 4.76090557, 5.77363145,\n",
       "       4.99732306, 4.90576184, 4.93580894, 4.6082007 , 4.98128563,\n",
       "       5.07310282, 5.39399209, 4.63566422, 4.4683799 , 4.20923179,\n",
       "       5.09746937, 4.73955406, 5.26069566, 4.59820538, 5.20894443,\n",
       "       5.4432515 , 5.27912267, 5.00347109, 5.50254349, 5.0028311 ,\n",
       "       4.14473751, 5.11406467, 5.27416151, 5.11348229, 4.10960786,\n",
       "       5.08573603, 4.73245661, 4.086407  , 4.6727476 , 5.03342314,\n",
       "       4.6241209 , 4.31465789, 4.62766915, 4.70492412, 5.31770275,\n",
       "       5.07180922, 4.82860643, 5.88491025, 5.19140724, 5.11961411,\n",
       "       4.8223435 , 4.84897934, 5.25680843, 4.62852741, 4.5863172 ,\n",
       "       5.26734088, 5.19962899, 5.11406467, 5.12106352, 4.91818129,\n",
       "       4.41102831, 5.07448229, 5.36716321, 5.38214934, 4.75331331,\n",
       "       5.14115274, 5.31768508, 5.063155  , 5.09194367, 4.77690843,\n",
       "       4.79949438, 5.17265513, 5.07236005, 4.70100042, 5.22578202,\n",
       "       5.22675449, 3.80946827, 5.40986308, 4.65931045, 5.378606  ,\n",
       "       3.58449242, 4.7743997 , 4.94488611, 5.10162469, 5.05210327,\n",
       "       3.96913701, 4.99124939, 5.33195676, 5.00637934, 4.47638633,\n",
       "       4.5739462 , 5.39212581, 5.05626543, 5.12623429, 4.82475436,\n",
       "       4.66564919, 4.03963769, 5.14043242, 4.61725999, 4.86188065,\n",
       "       5.32207964, 4.57057559, 4.51346874, 4.6339171 , 4.93632234,\n",
       "       5.36441014, 5.11392768, 4.72773485, 4.81070973, 5.16892274,\n",
       "       4.78145876])"
      ]
     },
     "execution_count": 121,
     "metadata": {},
     "output_type": "execute_result"
    }
   ],
   "source": [
    "# import the class\n",
    "from sklearn.linear_model import LogisticRegression\n",
    "from sklearn import utils\n",
    "from sklearn import preprocessing\n",
    "\n",
    "# instantiate the model (using the default parameters)\n",
    "linreg = LinearRegression()\n",
    "\n",
    "# fit the model with data\n",
    "linreg.fit(X_train, y_train)\n",
    "\n",
    "\n",
    "#make prediction\n",
    "y_pred = linreg.predict(X_test) \n",
    "y_pred"
   ]
  },
  {
   "cell_type": "markdown",
   "id": "ee9cc905-d9eb-4f7c-9e72-26f953864ba3",
   "metadata": {},
   "source": [
    "<h1>Model Evaluation</h1>"
   ]
  },
  {
   "cell_type": "code",
   "execution_count": 122,
   "id": "2e82b32c-2dfb-4d51-a309-3836ee49edc9",
   "metadata": {},
   "outputs": [
    {
     "data": {
      "text/plain": [
       "0.9085189026922813"
      ]
     },
     "execution_count": 122,
     "metadata": {},
     "output_type": "execute_result"
    }
   ],
   "source": [
    "from sklearn.metrics import mean_squared_error\n",
    "errors = mean_squared_error(y_test, y_pred)\n",
    "\n",
    "errors"
   ]
  },
  {
   "cell_type": "code",
   "execution_count": null,
   "id": "ccf097f4-7eae-4232-bb54-94faf4f94d2b",
   "metadata": {},
   "outputs": [],
   "source": []
  }
 ],
 "metadata": {
  "kernelspec": {
   "display_name": "Python 3 (ipykernel)",
   "language": "python",
   "name": "python3"
  },
  "language_info": {
   "codemirror_mode": {
    "name": "ipython",
    "version": 3
   },
   "file_extension": ".py",
   "mimetype": "text/x-python",
   "name": "python",
   "nbconvert_exporter": "python",
   "pygments_lexer": "ipython3",
   "version": "3.11.4"
  }
 },
 "nbformat": 4,
 "nbformat_minor": 5
}
